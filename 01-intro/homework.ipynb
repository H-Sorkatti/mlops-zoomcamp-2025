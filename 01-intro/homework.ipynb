{
 "cells": [
  {
   "cell_type": "code",
   "execution_count": 1,
   "id": "fe6aacd1",
   "metadata": {
    "ExecuteTime": {
     "end_time": "2025-05-14T18:16:12.680175Z",
     "start_time": "2025-05-14T18:16:12.659605Z"
    }
   },
   "outputs": [
    {
     "data": {
      "application/javascript": [
       "\n",
       "Jupyter.keyboard_manager.command_shortcuts.remove_shortcut('up');\n",
       "Jupyter.keyboard_manager.command_shortcuts.remove_shortcut('down');\n"
      ],
      "text/plain": [
       "<IPython.core.display.Javascript object>"
      ]
     },
     "metadata": {},
     "output_type": "display_data"
    }
   ],
   "source": [
    "%%javascript\n",
    "\n",
    "Jupyter.keyboard_manager.command_shortcuts.remove_shortcut('up');\n",
    "Jupyter.keyboard_manager.command_shortcuts.remove_shortcut('down');"
   ]
  },
  {
   "cell_type": "markdown",
   "id": "2bcbff24",
   "metadata": {},
   "source": [
    "# Week 1 Homework"
   ]
  },
  {
   "cell_type": "code",
   "execution_count": 2,
   "id": "4f3ca829",
   "metadata": {
    "ExecuteTime": {
     "end_time": "2025-05-14T18:16:42.874552Z",
     "start_time": "2025-05-14T18:16:12.686194Z"
    }
   },
   "outputs": [],
   "source": [
    "import pandas as pd"
   ]
  },
  {
   "cell_type": "markdown",
   "id": "0b8d4ab7",
   "metadata": {},
   "source": [
    "## Q1. Downloading the data\n",
    "We'll use the same NYC taxi dataset, but instead of \"Green Taxi Trip Records\", we'll use \"Yellow Taxi Trip Records\".\n",
    "\n",
    "Download the data for January and February 2023.\n",
    "\n",
    "Read the data for January. How many columns are there?"
   ]
  },
  {
   "cell_type": "code",
   "execution_count": 3,
   "id": "38ec53ef",
   "metadata": {
    "ExecuteTime": {
     "end_time": "2025-05-14T18:16:42.886704Z",
     "start_time": "2025-05-14T18:16:42.880575Z"
    }
   },
   "outputs": [],
   "source": [
    "# !wget \"https://d37ci6vzurychx.cloudfront.net/trip-data/yellow_tripdata_2023-01.parquet\" -O \"./data/yellow_tripdata_2023-01.parquet\"\n",
    "# !wget \"https://d37ci6vzurychx.cloudfront.net/trip-data/yellow_tripdata_2023-02.parquet\" -O \"./data/yellow_tripdata_2023-02.parquet\""
   ]
  },
  {
   "cell_type": "code",
   "execution_count": 4,
   "id": "3d8c979f",
   "metadata": {
    "ExecuteTime": {
     "end_time": "2025-05-14T18:16:49.678292Z",
     "start_time": "2025-05-14T18:16:42.894723Z"
    }
   },
   "outputs": [],
   "source": [
    "df_jan = pd.read_parquet(\"./yellow_tripdata_2023-01.parquet\")"
   ]
  },
  {
   "cell_type": "code",
   "execution_count": 5,
   "id": "51073b64",
   "metadata": {
    "ExecuteTime": {
     "end_time": "2025-05-14T18:16:50.276316Z",
     "start_time": "2025-05-14T18:16:49.682307Z"
    }
   },
   "outputs": [
    {
     "name": "stdout",
     "output_type": "stream",
     "text": [
      "<class 'pandas.core.frame.DataFrame'>\n",
      "RangeIndex: 3066766 entries, 0 to 3066765\n",
      "Data columns (total 19 columns):\n",
      " #   Column                 Dtype         \n",
      "---  ------                 -----         \n",
      " 0   VendorID               int64         \n",
      " 1   tpep_pickup_datetime   datetime64[us]\n",
      " 2   tpep_dropoff_datetime  datetime64[us]\n",
      " 3   passenger_count        float64       \n",
      " 4   trip_distance          float64       \n",
      " 5   RatecodeID             float64       \n",
      " 6   store_and_fwd_flag     object        \n",
      " 7   PULocationID           int64         \n",
      " 8   DOLocationID           int64         \n",
      " 9   payment_type           int64         \n",
      " 10  fare_amount            float64       \n",
      " 11  extra                  float64       \n",
      " 12  mta_tax                float64       \n",
      " 13  tip_amount             float64       \n",
      " 14  tolls_amount           float64       \n",
      " 15  improvement_surcharge  float64       \n",
      " 16  total_amount           float64       \n",
      " 17  congestion_surcharge   float64       \n",
      " 18  airport_fee            float64       \n",
      "dtypes: datetime64[us](2), float64(12), int64(4), object(1)\n",
      "memory usage: 444.6+ MB\n"
     ]
    }
   ],
   "source": [
    "df_jan.info()"
   ]
  },
  {
   "cell_type": "code",
   "execution_count": 6,
   "id": "c88a6df2",
   "metadata": {
    "ExecuteTime": {
     "end_time": "2025-05-14T18:16:50.300010Z",
     "start_time": "2025-05-14T18:16:50.282336Z"
    }
   },
   "outputs": [
    {
     "data": {
      "text/plain": [
       "19"
      ]
     },
     "execution_count": 6,
     "metadata": {},
     "output_type": "execute_result"
    }
   ],
   "source": [
    "# Or\n",
    "len(df_jan.columns)"
   ]
  },
  {
   "cell_type": "markdown",
   "id": "2538d3ac",
   "metadata": {},
   "source": [
    "### Answer:\n",
    "There are 19 columns in the January dataframe!"
   ]
  },
  {
   "cell_type": "markdown",
   "id": "07bf20c0",
   "metadata": {},
   "source": [
    "***"
   ]
  },
  {
   "cell_type": "markdown",
   "id": "fb0c6f8a",
   "metadata": {},
   "source": [
    "## Q2. Computing duration\n",
    "Now let's compute the duration variable. It should contain the duration of a ride in minutes.\n",
    "\n",
    "What's the standard deviation of the trips duration in January?"
   ]
  },
  {
   "cell_type": "code",
   "execution_count": 7,
   "id": "609fa062",
   "metadata": {
    "ExecuteTime": {
     "end_time": "2025-05-14T18:17:05.258830Z",
     "start_time": "2025-05-14T18:16:50.315015Z"
    }
   },
   "outputs": [],
   "source": [
    "df_jan['duration'] = df_jan.tpep_dropoff_datetime - df_jan.tpep_pickup_datetime\n",
    "df_jan.duration = df_jan.duration.apply(lambda td: td.total_seconds() / 60.0)"
   ]
  },
  {
   "cell_type": "code",
   "execution_count": 8,
   "id": "c5a9a271",
   "metadata": {
    "ExecuteTime": {
     "end_time": "2025-05-14T18:17:05.283146Z",
     "start_time": "2025-05-14T18:17:05.262851Z"
    }
   },
   "outputs": [
    {
     "data": {
      "text/plain": [
       "0           8.433333\n",
       "1           6.316667\n",
       "2          12.750000\n",
       "3           9.616667\n",
       "4          10.833333\n",
       "             ...    \n",
       "3066761    13.983333\n",
       "3066762    19.450000\n",
       "3066763    24.516667\n",
       "3066764    13.000000\n",
       "3066765    14.400000\n",
       "Name: duration, Length: 3066766, dtype: float64"
      ]
     },
     "execution_count": 8,
     "metadata": {},
     "output_type": "execute_result"
    }
   ],
   "source": [
    "df_jan.duration"
   ]
  },
  {
   "cell_type": "code",
   "execution_count": 9,
   "id": "226ebcad",
   "metadata": {
    "ExecuteTime": {
     "end_time": "2025-05-14T18:17:05.890794Z",
     "start_time": "2025-05-14T18:17:05.295143Z"
    }
   },
   "outputs": [
    {
     "data": {
      "text/plain": [
       "42.594351241920904"
      ]
     },
     "execution_count": 9,
     "metadata": {},
     "output_type": "execute_result"
    }
   ],
   "source": [
    "df_jan.duration.std()"
   ]
  },
  {
   "cell_type": "markdown",
   "id": "66bcd8ec",
   "metadata": {},
   "source": [
    "### Answer:\n",
    "Standard deviation of trips in January is 42.59"
   ]
  },
  {
   "cell_type": "markdown",
   "id": "982239b7",
   "metadata": {},
   "source": [
    "***"
   ]
  },
  {
   "cell_type": "markdown",
   "id": "10bb4bfe",
   "metadata": {},
   "source": [
    "## Q3. Dropping outliers\n",
    "Next, we need to check the distribution of the duration variable. There are some outliers. Let's remove them and keep only the records where the duration was between 1 and 60 minutes (inclusive).\n",
    "\n",
    "What fraction of the records left after you dropped the outliers?"
   ]
  },
  {
   "cell_type": "code",
   "execution_count": 10,
   "id": "06bfc023",
   "metadata": {
    "ExecuteTime": {
     "end_time": "2025-05-14T18:17:06.241443Z",
     "start_time": "2025-05-14T18:17:05.895810Z"
    }
   },
   "outputs": [
    {
     "data": {
      "text/plain": [
       "3066766"
      ]
     },
     "execution_count": 10,
     "metadata": {},
     "output_type": "execute_result"
    }
   ],
   "source": [
    "# Length before dropping outliers\n",
    "total_jan_length = len(df_jan)\n",
    "total_jan_length"
   ]
  },
  {
   "cell_type": "code",
   "execution_count": 11,
   "id": "a0eb93c2",
   "metadata": {
    "ExecuteTime": {
     "end_time": "2025-05-14T18:17:07.146759Z",
     "start_time": "2025-05-14T18:17:06.246461Z"
    }
   },
   "outputs": [],
   "source": [
    "df_jan = df_jan[(df_jan.duration >= 1) & (df_jan.duration <= 60)]"
   ]
  },
  {
   "cell_type": "code",
   "execution_count": 12,
   "id": "3fa7ddb6",
   "metadata": {
    "ExecuteTime": {
     "end_time": "2025-05-14T18:17:07.210233Z",
     "start_time": "2025-05-14T18:17:07.193780Z"
    }
   },
   "outputs": [
    {
     "data": {
      "text/plain": [
       "3009173"
      ]
     },
     "execution_count": 12,
     "metadata": {},
     "output_type": "execute_result"
    }
   ],
   "source": [
    "# Length after filtering outliers\n",
    "filtered_jan_length = len(df_jan)\n",
    "filtered_jan_length"
   ]
  },
  {
   "cell_type": "code",
   "execution_count": 13,
   "id": "f18d2e44",
   "metadata": {
    "ExecuteTime": {
     "end_time": "2025-05-14T18:17:07.843914Z",
     "start_time": "2025-05-14T18:17:07.217253Z"
    }
   },
   "outputs": [
    {
     "data": {
      "text/plain": [
       "0.9812202822125979"
      ]
     },
     "execution_count": 13,
     "metadata": {},
     "output_type": "execute_result"
    }
   ],
   "source": [
    "# Fraction\n",
    "filtered_jan_length / total_jan_length"
   ]
  },
  {
   "cell_type": "markdown",
   "id": "8909dd21",
   "metadata": {},
   "source": [
    "### Answer:\n",
    "Fraction of records left after dropping outliers: %98"
   ]
  },
  {
   "cell_type": "markdown",
   "id": "d8166fda",
   "metadata": {},
   "source": [
    "***"
   ]
  },
  {
   "cell_type": "markdown",
   "id": "05872ee5",
   "metadata": {},
   "source": [
    "## Q4. One-hot encoding\n",
    "Let's apply one-hot encoding to the pickup and dropoff location IDs. We'll use only these two features for our model.\n",
    "\n",
    "* Turn the dataframe into a list of dictionaries (remember to re-cast the ids to strings - otherwise it will label encode them)\n",
    "* Fit a dictionary vectorizer\n",
    "* Get a feature matrix from it\n",
    "\n",
    "What's the dimensionality of this matrix (number of columns)?"
   ]
  },
  {
   "cell_type": "code",
   "execution_count": 14,
   "id": "e4a17240",
   "metadata": {
    "ExecuteTime": {
     "end_time": "2025-05-14T18:17:47.747962Z",
     "start_time": "2025-05-14T18:17:07.849929Z"
    }
   },
   "outputs": [],
   "source": [
    "from sklearn.feature_extraction import DictVectorizer"
   ]
  },
  {
   "cell_type": "code",
   "execution_count": 15,
   "id": "2395cbe2",
   "metadata": {
    "ExecuteTime": {
     "end_time": "2025-05-14T18:17:47.812989Z",
     "start_time": "2025-05-14T18:17:47.757984Z"
    }
   },
   "outputs": [],
   "source": [
    "categorical = [\"PULocationID\", \"DOLocationID\"]"
   ]
  },
  {
   "cell_type": "code",
   "execution_count": 16,
   "id": "7f34e6bd",
   "metadata": {
    "ExecuteTime": {
     "end_time": "2025-05-14T18:17:51.923259Z",
     "start_time": "2025-05-14T18:17:47.832996Z"
    }
   },
   "outputs": [
    {
     "name": "stderr",
     "output_type": "stream",
     "text": [
      "C:\\Users\\user\\AppData\\Local\\Temp\\ipykernel_8792\\2308668283.py:1: FutureWarning: Setting an item of incompatible dtype is deprecated and will raise in a future error of pandas. Value '['161' '43' '48' ... '114' '230' '262']' has dtype incompatible with int64, please explicitly cast to a compatible dtype first.\n",
      "  df_jan.loc[:, categorical] = df_jan[categorical].astype(str)\n",
      "C:\\Users\\user\\AppData\\Local\\Temp\\ipykernel_8792\\2308668283.py:1: FutureWarning: Setting an item of incompatible dtype is deprecated and will raise in a future error of pandas. Value '['141' '237' '238' ... '239' '79' '143']' has dtype incompatible with int64, please explicitly cast to a compatible dtype first.\n",
      "  df_jan.loc[:, categorical] = df_jan[categorical].astype(str)\n"
     ]
    }
   ],
   "source": [
    "df_jan.loc[:, categorical] = df_jan[categorical].astype(str)"
   ]
  },
  {
   "cell_type": "code",
   "execution_count": null,
   "id": "9d09ec3e",
   "metadata": {
    "ExecuteTime": {
     "start_time": "2025-05-14T18:16:24.030Z"
    }
   },
   "outputs": [],
   "source": [
    "jan_dicts = df_jan.loc[:, categorical].to_dict(orient=\"records\")"
   ]
  },
  {
   "cell_type": "code",
   "execution_count": null,
   "id": "fbffc67c",
   "metadata": {
    "ExecuteTime": {
     "start_time": "2025-05-14T18:16:29.659Z"
    }
   },
   "outputs": [],
   "source": [
    "dv = DictVectorizer(sparse=False)"
   ]
  },
  {
   "cell_type": "code",
   "execution_count": null,
   "id": "ce6ef602",
   "metadata": {
    "ExecuteTime": {
     "start_time": "2025-05-14T18:17:29.724Z"
    }
   },
   "outputs": [],
   "source": [
    "jan_matrix = dv.fit_transform(jan_dicts)\n",
    "jan_matrix.shape"
   ]
  },
  {
   "cell_type": "code",
   "execution_count": null,
   "id": "d4daa60e",
   "metadata": {},
   "outputs": [],
   "source": []
  }
 ],
 "metadata": {
  "kernelspec": {
   "display_name": "Python 3 (ipykernel)",
   "language": "python",
   "name": "python3"
  },
  "language_info": {
   "codemirror_mode": {
    "name": "ipython",
    "version": 3
   },
   "file_extension": ".py",
   "mimetype": "text/x-python",
   "name": "python",
   "nbconvert_exporter": "python",
   "pygments_lexer": "ipython3",
   "version": "3.11.7"
  }
 },
 "nbformat": 4,
 "nbformat_minor": 5
}
